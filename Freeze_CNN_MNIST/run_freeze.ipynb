{
 "cells": [
  {
   "cell_type": "markdown",
   "metadata": {},
   "source": [
    "# 1. 儲存一個CNN MNIST的Model，格式為ckpt"
   ]
  },
  {
   "cell_type": "code",
   "execution_count": null,
   "metadata": {
    "collapsed": false
   },
   "outputs": [],
   "source": [
    "!python ./CNN_MNIST_train.py \\\n",
    "--model_path /notebooks/DNN_thhuang/Freeze_CNN_MNIST/models/cnn_mnist \\\n",
    "--step 5000 \\\n",
    "--GPU True"
   ]
  },
  {
   "cell_type": "markdown",
   "metadata": {},
   "source": [
    "# 2. 使用freeze程式將ckpt轉換成pb"
   ]
  },
  {
   "cell_type": "code",
   "execution_count": null,
   "metadata": {
    "collapsed": false
   },
   "outputs": [],
   "source": [
    "!python /notebooks/DNN_thhuang/Freeze_Model/freeze.py \\\n",
    "--model_folder /notebooks/DNN_thhuang/Freeze_CNN_MNIST/models \\\n",
    "--node Accuracy/acc"
   ]
  },
  {
   "cell_type": "markdown",
   "metadata": {},
   "source": [
    "# 3. 讀取pb檔來為完成任務"
   ]
  },
  {
   "cell_type": "code",
   "execution_count": null,
   "metadata": {
    "collapsed": false,
    "scrolled": true
   },
   "outputs": [],
   "source": [
    "!python /notebooks/DNN_thhuang/Freeze_Model/load_CNN_MNIST_model.py \\\n",
    "--frozen_model_filename /notebooks/DNN_thhuang/Freeze_CNN_MNIST/models/frozen_model.pb"
   ]
  },
  {
   "cell_type": "code",
   "execution_count": null,
   "metadata": {
    "collapsed": true
   },
   "outputs": [],
   "source": []
  }
 ],
 "metadata": {
  "kernelspec": {
   "display_name": "Python 2",
   "language": "python",
   "name": "python2"
  },
  "language_info": {
   "codemirror_mode": {
    "name": "ipython",
    "version": 2
   },
   "file_extension": ".py",
   "mimetype": "text/x-python",
   "name": "python",
   "nbconvert_exporter": "python",
   "pygments_lexer": "ipython2",
   "version": "2.7.6"
  }
 },
 "nbformat": 4,
 "nbformat_minor": 2
}
