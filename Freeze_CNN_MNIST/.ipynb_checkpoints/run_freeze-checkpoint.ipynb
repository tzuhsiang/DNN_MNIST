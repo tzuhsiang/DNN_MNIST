{
 "cells": [
  {
   "cell_type": "markdown",
   "metadata": {},
   "source": [
    "# 1. 儲存一個CNN MNIST的Model，格式為ckpt"
   ]
  },
  {
   "cell_type": "code",
   "execution_count": 2,
   "metadata": {
    "collapsed": false
   },
   "outputs": [
    {
     "name": "stdout",
     "output_type": "stream",
     "text": [
      "I tensorflow/stream_executor/dso_loader.cc:128] successfully opened CUDA library libcublas.so locally\n",
      "I tensorflow/stream_executor/dso_loader.cc:128] successfully opened CUDA library libcudnn.so locally\n",
      "I tensorflow/stream_executor/dso_loader.cc:128] successfully opened CUDA library libcufft.so locally\n",
      "I tensorflow/stream_executor/dso_loader.cc:128] successfully opened CUDA library libcuda.so.1 locally\n",
      "I tensorflow/stream_executor/dso_loader.cc:128] successfully opened CUDA library libcurand.so locally\n",
      "Traceback (most recent call last):\n",
      "  File \"./CNN_MNIST_train.py\", line 7, in <module>\n",
      "    mnist = input_data.read_data_sets(\"/notebooks/DNN_thhuang/Freeze_CNN_MNIST/MNIST_data/\", one_hot=True)\n",
      "  File \"/usr/local/lib/python2.7/dist-packages/tensorflow/contrib/learn/python/learn/datasets/mnist.py\", line 211, in read_data_sets\n",
      "    SOURCE_URL + TRAIN_IMAGES)\n",
      "  File \"/usr/local/lib/python2.7/dist-packages/tensorflow/contrib/learn/python/learn/datasets/base.py\", line 208, in maybe_download\n",
      "    temp_file_name, _ = urlretrieve_with_retry(source_url)\n",
      "  File \"/usr/local/lib/python2.7/dist-packages/tensorflow/contrib/learn/python/learn/datasets/base.py\", line 165, in wrapped_fn\n",
      "    return fn(*args, **kwargs)\n",
      "  File \"/usr/local/lib/python2.7/dist-packages/tensorflow/contrib/learn/python/learn/datasets/base.py\", line 190, in urlretrieve_with_retry\n",
      "    return urllib.request.urlretrieve(url, filename)\n",
      "  File \"/usr/lib/python2.7/urllib.py\", line 94, in urlretrieve\n",
      "    return _urlopener.retrieve(url, filename, reporthook, data)\n",
      "  File \"/usr/lib/python2.7/urllib.py\", line 240, in retrieve\n",
      "    fp = self.open(url, data)\n",
      "  File \"/usr/lib/python2.7/urllib.py\", line 208, in open\n",
      "    return getattr(self, name)(url)\n",
      "  File \"/usr/lib/python2.7/urllib.py\", line 345, in open_http\n",
      "    h.endheaders(data)\n",
      "  File \"/usr/lib/python2.7/httplib.py\", line 1013, in endheaders\n",
      "    self._send_output(message_body)\n",
      "  File \"/usr/lib/python2.7/httplib.py\", line 864, in _send_output\n",
      "    self.send(msg)\n",
      "  File \"/usr/lib/python2.7/httplib.py\", line 826, in send\n",
      "    self.connect()\n",
      "  File \"/usr/lib/python2.7/httplib.py\", line 807, in connect\n",
      "    self.timeout, self.source_address)\n",
      "  File \"/usr/lib/python2.7/socket.py\", line 553, in create_connection\n",
      "    for res in getaddrinfo(host, port, 0, SOCK_STREAM):\n",
      "IOError: [Errno socket error] [Errno -2] Name or service not known\n"
     ]
    }
   ],
   "source": [
    "!python ./CNN_MNIST_train.py \\\n",
    "--model_path /notebooks/DNN_thhuang/Freeze_CNN_MNIST/models/cnn_mnist \\\n",
    "--step 5000 \\\n",
    "--GPU True"
   ]
  },
  {
   "cell_type": "markdown",
   "metadata": {},
   "source": [
    "# 2. 使用freeze程式將ckpt轉換成pb"
   ]
  },
  {
   "cell_type": "code",
   "execution_count": null,
   "metadata": {
    "collapsed": false
   },
   "outputs": [],
   "source": [
    "!python /notebooks/DNN_thhuang/Freeze_Model/freeze.py \\\n",
    "--model_folder /notebooks/DNN_thhuang/Freeze_CNN_MNIST/models \\\n",
    "--node Accuracy/acc"
   ]
  },
  {
   "cell_type": "markdown",
   "metadata": {},
   "source": [
    "# 3. 讀取pb檔來為完成任務"
   ]
  },
  {
   "cell_type": "code",
   "execution_count": null,
   "metadata": {
    "collapsed": false,
    "scrolled": true
   },
   "outputs": [],
   "source": [
    "!python /notebooks/DNN_thhuang/Freeze_Model/load_CNN_MNIST_model.py \\\n",
    "--frozen_model_filename /notebooks/DNN_thhuang/Freeze_CNN_MNIST/models/frozen_model.pb"
   ]
  },
  {
   "cell_type": "code",
   "execution_count": null,
   "metadata": {
    "collapsed": true
   },
   "outputs": [],
   "source": []
  }
 ],
 "metadata": {
  "kernelspec": {
   "display_name": "Python 2",
   "language": "python",
   "name": "python2"
  },
  "language_info": {
   "codemirror_mode": {
    "name": "ipython",
    "version": 2
   },
   "file_extension": ".py",
   "mimetype": "text/x-python",
   "name": "python",
   "nbconvert_exporter": "python",
   "pygments_lexer": "ipython2",
   "version": "2.7.6"
  }
 },
 "nbformat": 4,
 "nbformat_minor": 2
}
