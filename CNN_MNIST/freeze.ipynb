{
 "cells": [
  {
   "cell_type": "code",
   "execution_count": 12,
   "metadata": {
    "collapsed": false
   },
   "outputs": [
    {
     "name": "stdout",
     "output_type": "stream",
     "text": [
      "I tensorflow/stream_executor/dso_loader.cc:128] successfully opened CUDA library libcublas.so locally\n",
      "I tensorflow/stream_executor/dso_loader.cc:128] successfully opened CUDA library libcudnn.so locally\n",
      "I tensorflow/stream_executor/dso_loader.cc:128] successfully opened CUDA library libcufft.so locally\n",
      "I tensorflow/stream_executor/dso_loader.cc:128] successfully opened CUDA library libcuda.so.1 locally\n",
      "I tensorflow/stream_executor/dso_loader.cc:128] successfully opened CUDA library libcurand.so locally\n",
      "I tensorflow/core/common_runtime/gpu/gpu_device.cc:885] Found device 0 with properties: \n",
      "name: Tesla K80\n",
      "major: 3 minor: 7 memoryClockRate (GHz) 0.8235\n",
      "pciBusID 0000:8b:00.0\n",
      "Total memory: 11.17GiB\n",
      "Free memory: 11.11GiB\n",
      "I tensorflow/core/common_runtime/gpu/gpu_device.cc:906] DMA: 0 \n",
      "I tensorflow/core/common_runtime/gpu/gpu_device.cc:916] 0:   Y \n",
      "I tensorflow/core/common_runtime/gpu/gpu_device.cc:975] Creating TensorFlow device (/gpu:0) -> (device: 0, name: Tesla K80, pci bus id: 0000:8b:00.0)\n",
      "Traceback (most recent call last):\n",
      "  File \"/notebooks/DNN_thhuang/CNN_MNIST/freeze.py\", line 54, in <module>\n",
      "    freeze_graph(args.model_folder)\n",
      "  File \"/notebooks/DNN_thhuang/CNN_MNIST/freeze.py\", line 40, in freeze_graph\n",
      "    output_node_names.split(\",\") # The output node names are used to select the usefull nodes\n",
      "  File \"/usr/local/lib/python2.7/dist-packages/tensorflow/python/framework/graph_util_impl.py\", line 234, in convert_variables_to_constants\n",
      "    inference_graph = extract_sub_graph(input_graph_def, output_node_names)\n",
      "  File \"/usr/local/lib/python2.7/dist-packages/tensorflow/python/framework/graph_util_impl.py\", line 158, in extract_sub_graph\n",
      "    assert d in name_to_node_map, \"%s is not in graph\" % d\n",
      "AssertionError: Accuracy is not in graph\n"
     ]
    }
   ],
   "source": [
    "!python /notebooks/DNN_thhuang/CNN_MNIST/freeze.py --model_folder /notebooks/DNN_thhuang/CNN_MNIST/Models"
   ]
  },
  {
   "cell_type": "code",
   "execution_count": 2,
   "metadata": {
    "collapsed": true
   },
   "outputs": [],
   "source": [
    "import tensorflow as tf"
   ]
  },
  {
   "cell_type": "code",
   "execution_count": 3,
   "metadata": {
    "collapsed": false
   },
   "outputs": [
    {
     "name": "stdout",
     "output_type": "stream",
     "text": [
      "Help on function get_default_graph in module tensorflow.python.framework.ops:\n",
      "\n",
      "get_default_graph()\n",
      "    Returns the default graph for the current thread.\n",
      "    \n",
      "    The returned graph will be the innermost graph on which a\n",
      "    `Graph.as_default()` context has been entered, or a global default\n",
      "    graph if none has been explicitly created.\n",
      "    \n",
      "    NOTE: The default graph is a property of the current thread. If you\n",
      "    create a new thread, and wish to use the default graph in that\n",
      "    thread, you must explicitly add a `with g.as_default():` in that\n",
      "    thread's function.\n",
      "    \n",
      "    Returns:\n",
      "      The default `Graph` being used in the current thread.\n",
      "\n"
     ]
    }
   ],
   "source": [
    "help(tf.get_default_graph)"
   ]
  },
  {
   "cell_type": "code",
   "execution_count": 7,
   "metadata": {
    "collapsed": false
   },
   "outputs": [
    {
     "name": "stdout",
     "output_type": "stream",
     "text": [
      "Help on method as_graph_def in module tensorflow.python.framework.ops:\n",
      "\n",
      "as_graph_def(self, from_version=None, add_shapes=False) method of tensorflow.python.framework.ops.Graph instance\n",
      "    Returns a serialized `GraphDef` representation of this graph.\n",
      "    \n",
      "    The serialized `GraphDef` can be imported into another `Graph`\n",
      "    (using [`import_graph_def()`](#import_graph_def)) or used with the\n",
      "    [C++ Session API](../../api_docs/cc/index.md).\n",
      "    \n",
      "    This method is thread-safe.\n",
      "    \n",
      "    Args:\n",
      "      from_version: Optional.  If this is set, returns a `GraphDef`\n",
      "        containing only the nodes that were added to this graph since\n",
      "        its `version` property had the given value.\n",
      "      add_shapes: If true, adds an \"_output_shapes\" list attr to each\n",
      "        node with the inferred shapes of each of its outputs.\n",
      "    \n",
      "    Returns:\n",
      "      A [`GraphDef`](https://www.tensorflow.org/code/tensorflow/core/framework/graph.proto)\n",
      "      protocol buffer.\n",
      "    \n",
      "    Raises:\n",
      "      ValueError: If the `graph_def` would be too large.\n",
      "\n"
     ]
    }
   ],
   "source": [
    "help(tf.get_default_graph().as_graph_def)"
   ]
  },
  {
   "cell_type": "code",
   "execution_count": null,
   "metadata": {
    "collapsed": true
   },
   "outputs": [],
   "source": []
  }
 ],
 "metadata": {
  "kernelspec": {
   "display_name": "Python 2",
   "language": "python",
   "name": "python2"
  },
  "language_info": {
   "codemirror_mode": {
    "name": "ipython",
    "version": 2
   },
   "file_extension": ".py",
   "mimetype": "text/x-python",
   "name": "python",
   "nbconvert_exporter": "python",
   "pygments_lexer": "ipython2",
   "version": "2.7.6"
  }
 },
 "nbformat": 4,
 "nbformat_minor": 2
}
