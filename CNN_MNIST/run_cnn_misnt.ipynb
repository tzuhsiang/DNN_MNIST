{
 "cells": [
  {
   "cell_type": "code",
   "execution_count": 9,
   "metadata": {
    "collapsed": false
   },
   "outputs": [
    {
     "name": "stdout",
     "output_type": "stream",
     "text": [
      "I tensorflow/stream_executor/dso_loader.cc:128] successfully opened CUDA library libcublas.so locally\n",
      "I tensorflow/stream_executor/dso_loader.cc:128] successfully opened CUDA library libcudnn.so locally\n",
      "I tensorflow/stream_executor/dso_loader.cc:128] successfully opened CUDA library libcufft.so locally\n",
      "I tensorflow/stream_executor/dso_loader.cc:128] successfully opened CUDA library libcuda.so.1 locally\n",
      "I tensorflow/stream_executor/dso_loader.cc:128] successfully opened CUDA library libcurand.so locally\n",
      "Extracting ./MNIST_data/train-images-idx3-ubyte.gz\n",
      "Extracting ./MNIST_data/train-labels-idx1-ubyte.gz\n",
      "Extracting ./MNIST_data/t10k-images-idx3-ubyte.gz\n",
      "Extracting ./MNIST_data/t10k-labels-idx1-ubyte.gz\n",
      "I tensorflow/core/common_runtime/gpu/gpu_device.cc:885] Found device 0 with properties: \n",
      "name: Tesla K80\n",
      "major: 3 minor: 7 memoryClockRate (GHz) 0.8235\n",
      "pciBusID 0000:8b:00.0\n",
      "Total memory: 11.17GiB\n",
      "Free memory: 11.11GiB\n",
      "I tensorflow/core/common_runtime/gpu/gpu_device.cc:906] DMA: 0 \n",
      "I tensorflow/core/common_runtime/gpu/gpu_device.cc:916] 0:   Y \n",
      "I tensorflow/core/common_runtime/gpu/gpu_device.cc:975] Creating TensorFlow device (/gpu:0) -> (device: 0, name: Tesla K80, pci bus id: 0000:8b:00.0)\n",
      "Iter 1000, Minibatch Loss= 0.000000, Training Accuracy= 1.00000\n",
      "Optimization Finished!\n",
      "Execution time: 18.62 sec\n",
      "Saved the model ./Models/cnn_mnist\n",
      "Run the command line:\n",
      "--> tensorboard --logdir=./Models/cnn_mnist\n",
      "Execution:19 Sec\n"
     ]
    }
   ],
   "source": [
    "!python ./CNN_MNIST_train.py --step 1000 --GPU True"
   ]
  },
  {
   "cell_type": "code",
   "execution_count": 10,
   "metadata": {
    "collapsed": false
   },
   "outputs": [
    {
     "name": "stdout",
     "output_type": "stream",
     "text": [
      "I tensorflow/stream_executor/dso_loader.cc:128] successfully opened CUDA library libcublas.so locally\n",
      "I tensorflow/stream_executor/dso_loader.cc:128] successfully opened CUDA library libcudnn.so locally\n",
      "I tensorflow/stream_executor/dso_loader.cc:128] successfully opened CUDA library libcufft.so locally\n",
      "I tensorflow/stream_executor/dso_loader.cc:128] successfully opened CUDA library libcuda.so.1 locally\n",
      "I tensorflow/stream_executor/dso_loader.cc:128] successfully opened CUDA library libcurand.so locally\n",
      "Extracting ./MNIST_data/train-images-idx3-ubyte.gz\n",
      "Extracting ./MNIST_data/train-labels-idx1-ubyte.gz\n",
      "Extracting ./MNIST_data/t10k-images-idx3-ubyte.gz\n",
      "Extracting ./MNIST_data/t10k-labels-idx1-ubyte.gz\n",
      "I tensorflow/core/common_runtime/gpu/gpu_device.cc:885] Found device 0 with properties: \n",
      "name: Tesla K80\n",
      "major: 3 minor: 7 memoryClockRate (GHz) 0.8235\n",
      "pciBusID 0000:8b:00.0\n",
      "Total memory: 11.17GiB\n",
      "Free memory: 11.11GiB\n",
      "I tensorflow/core/common_runtime/gpu/gpu_device.cc:906] DMA: 0 \n",
      "I tensorflow/core/common_runtime/gpu/gpu_device.cc:916] 0:   Y \n",
      "I tensorflow/core/common_runtime/gpu/gpu_device.cc:975] Creating TensorFlow device (/gpu:0) -> (device: 0, name: Tesla K80, pci bus id: 0000:8b:00.0)\n",
      "Loaded model from ./Models/cnn_mnist\n",
      "Testing Accuracy: 0.9728\n",
      "Execution time: 1.25 sec\n"
     ]
    }
   ],
   "source": [
    "!python ./CNN_MNIST_test.py"
   ]
  },
  {
   "cell_type": "code",
   "execution_count": null,
   "metadata": {
    "collapsed": false
   },
   "outputs": [],
   "source": [
    "#!tensorboard --logdir=/notebooks/DNN_thhuang/CNN_MNIST/Models/cnn_mnist"
   ]
  },
  {
   "cell_type": "code",
   "execution_count": null,
   "metadata": {
    "collapsed": true
   },
   "outputs": [],
   "source": []
  }
 ],
 "metadata": {
  "kernelspec": {
   "display_name": "Python 2",
   "language": "python",
   "name": "python2"
  },
  "language_info": {
   "codemirror_mode": {
    "name": "ipython",
    "version": 2
   },
   "file_extension": ".py",
   "mimetype": "text/x-python",
   "name": "python",
   "nbconvert_exporter": "python",
   "pygments_lexer": "ipython2",
   "version": "2.7.6"
  }
 },
 "nbformat": 4,
 "nbformat_minor": 2
}
